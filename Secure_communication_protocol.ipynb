{
  "nbformat": 4,
  "nbformat_minor": 0,
  "metadata": {
    "colab": {
      "provenance": []
    },
    "kernelspec": {
      "name": "python3",
      "display_name": "Python 3"
    },
    "language_info": {
      "name": "python"
    }
  },
  "cells": [
    {
      "cell_type": "code",
      "source": [
        "pip install pycryptodome"
      ],
      "metadata": {
        "colab": {
          "base_uri": "https://localhost:8080/"
        },
        "id": "drCeoGZJoH8f",
        "outputId": "1b863a02-cf2a-496e-adb8-3f9904f8975b"
      },
      "execution_count": 2,
      "outputs": [
        {
          "output_type": "stream",
          "name": "stdout",
          "text": [
            "Collecting pycryptodome\n",
            "  Downloading pycryptodome-3.23.0-cp37-abi3-manylinux_2_17_x86_64.manylinux2014_x86_64.whl.metadata (3.4 kB)\n",
            "Downloading pycryptodome-3.23.0-cp37-abi3-manylinux_2_17_x86_64.manylinux2014_x86_64.whl (2.3 MB)\n",
            "\u001b[2K   \u001b[90m━━━━━━━━━━━━━━━━━━━━━━━━━━━━━━━━━━━━━━━━\u001b[0m \u001b[32m2.3/2.3 MB\u001b[0m \u001b[31m6.1 MB/s\u001b[0m eta \u001b[36m0:00:00\u001b[0m\n",
            "\u001b[?25hInstalling collected packages: pycryptodome\n",
            "Successfully installed pycryptodome-3.23.0\n"
          ]
        }
      ]
    },
    {
      "cell_type": "code",
      "execution_count": 3,
      "metadata": {
        "colab": {
          "base_uri": "https://localhost:8080/"
        },
        "id": "xnpJ_AydnzEk",
        "outputId": "247cb5de-5278-4086-c843-be031f64d6db"
      },
      "outputs": [
        {
          "output_type": "stream",
          "name": "stdout",
          "text": [
            "Encrypted AES key: QLxp84F58P1NoCqvEuGm19t5hZgQrSny3XcjuWV4mTTYBT79htaUqfRpIzcnIttKwq7nhyhuXoxdseNK8P+zNLsgCwgioH0eZWz2qdKJXJunonYu02yAp271AIV/eQpqPLrdg2Ih8TiOCJevGjLImTGvJRkWRICZSelvc2cMsZ42Tu/QLcPKKtAv3X4ZC6vYXMgdvKJHVCUPS/ssZ2YxSq4Y5U9rx+r0Aqqex8j/bUe0zROaMHirQnk0fsq4CF6H8MaA5MjdFPnluBRuvSodSM2C/ADZCclypIF05kph7WzHl4orrqvfh9hpRPmif2zWyYRjl272YOjXK0ezjvYS5Q==\n",
            "AES Encrypted message: n916VenW7tnle3fnGo7XMsHacuBv/Uo8w8iq1mIvpVAMFJoxBmpN\n",
            "AES Nonce: awHSMtjypgbpvaIZqvKEoQ==\n",
            "Digital Signature: fIuOg3No4z+UVku01Lznhf6Vdnnr5I/WOND/U4WBGqtPMk3LSt8oHySracdNxhurNXKbph5Cv5fYnoNXiWluzzCSOtkkbpeekIi68Vqic++afsQD7PqlAOBH9k9yWV7C957+TXwTfe+P49QUriaXBYIPNRnoTISByAby3lthUOd5nzyKDpXibXbcECT7CEIwGoWNAm7KwUQEscVrkt6uys5/pm5a/6pFFvKWHjdh4a3SBq5mX8fDuniLhnRGa24Wc0Ffnmn97Q50uiq3ete8y/ZIXJVllOBbJ0sMJ2creG4z8e5xhqi7gA9NIJWqflS6rYnWKT72yFQscmbeNy12+g==\n",
            "Signature is valid. Message: Secure Communication Using Cryptography\n"
          ]
        }
      ],
      "source": [
        "from Crypto.Cipher import AES, PKCS1_OAEP\n",
        "from Crypto.PublicKey import RSA\n",
        "from Crypto.Random import get_random_bytes\n",
        "from Crypto.Hash import SHA256\n",
        "from Crypto.Signature import pkcs1_15\n",
        "import base64\n",
        "\n",
        "# Step 1: Generate RSA key pair\n",
        "key = RSA.generate(2048)\n",
        "private_key = key\n",
        "public_key = key.publickey()\n",
        "\n",
        "# Step 2: Generate AES key\n",
        "aes_key = get_random_bytes(16)\n",
        "\n",
        "# Step 3: Encrypt AES key using RSA public key\n",
        "rsa_cipher = PKCS1_OAEP.new(public_key)\n",
        "encrypted_aes_key = rsa_cipher.encrypt(aes_key)\n",
        "\n",
        "# Step 4: Encrypt a message using AES\n",
        "message = b\"Secure Communication Using Cryptography\"\n",
        "cipher_aes = AES.new(aes_key, AES.MODE_EAX)\n",
        "ciphertext, tag = cipher_aes.encrypt_and_digest(message)\n",
        "nonce = cipher_aes.nonce  # Save nonce for decryption\n",
        "\n",
        "# Step 5: Sign the original message using RSA private key\n",
        "hash_msg = SHA256.new(message)\n",
        "signature = pkcs1_15.new(private_key).sign(hash_msg)\n",
        "\n",
        "# Transmit these values\n",
        "print(\"Encrypted AES key:\", base64.b64encode(encrypted_aes_key).decode())\n",
        "print(\"AES Encrypted message:\", base64.b64encode(ciphertext).decode())\n",
        "print(\"AES Nonce:\", base64.b64encode(nonce).decode())\n",
        "print(\"Digital Signature:\", base64.b64encode(signature).decode())\n",
        "\n",
        "# Step 6: Decryption (Simulating receiver side)\n",
        "\n",
        "# Decrypt AES key using RSA private key\n",
        "rsa_dec_cipher = PKCS1_OAEP.new(private_key)\n",
        "decrypted_aes_key = rsa_dec_cipher.decrypt(encrypted_aes_key)\n",
        "\n",
        "# Decrypt message using AES\n",
        "cipher_aes_dec = AES.new(decrypted_aes_key, AES.MODE_EAX, nonce=nonce)\n",
        "decrypted_message = cipher_aes_dec.decrypt(ciphertext)\n",
        "\n",
        "# Verify digital signature\n",
        "hash_dec = SHA256.new(decrypted_message)\n",
        "try:\n",
        "    pkcs1_15.new(public_key).verify(hash_dec, signature)\n",
        "    print(\"Signature is valid. Message:\", decrypted_message.decode())\n",
        "except (ValueError, TypeError):\n",
        "    print(\"Signature is invalid.\")\n"
      ]
    }
  ]
}